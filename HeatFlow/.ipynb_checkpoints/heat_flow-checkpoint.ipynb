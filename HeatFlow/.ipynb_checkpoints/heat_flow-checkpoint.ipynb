{
 "cells": [
  {
   "cell_type": "markdown",
   "metadata": {},
   "source": [
    "# Heat Flow"
   ]
  },
  {
   "cell_type": "code",
   "execution_count": 1,
   "metadata": {
    "collapsed": true
   },
   "outputs": [],
   "source": [
    "import numpy as np\n",
    "from matplotlib import rcParams, pyplot as plt\n",
    "from matplotlib import animation\n",
    "from scipy.sparse import diags\n",
    "import scipy.linalg as la\n",
    "plt.switch_backend('qt5agg')"
   ]
  },
  {
   "cell_type": "markdown",
   "metadata": {},
   "source": [
    "### Numerically Modeling Heat Flow"
   ]
  },
  {
   "cell_type": "code",
   "execution_count": 58,
   "metadata": {
    "collapsed": false
   },
   "outputs": [
    {
     "data": {
      "image/png": "[encoded data removed]",
      "text/plain": [
       "<matplotlib.figure.Figure at 0x1109964a8>"
      ]
     },
     "metadata": {},
     "output_type": "display_data"
    }
   ],
   "source": [
    "x_domain = np.linspace(0,1,7)\n",
    "t_domain = np.linspace(0,.4,11)\n",
    "v = .05\n",
    "h = 1/7#changes in x\n",
    "k = .4/11# changes in t\n",
    "lam = v*k/h**2\n",
    "\n",
    "f_x = lambda x: 2*max(.2-abs(x-.5),0)\n",
    "\n",
    "x_l = len(x_domain)\n",
    "t_l = len(t_domain)\n",
    "\n",
    "U_0 = [f_x(i) for i in x_domain]\n",
    "plt.plot(x_domain,U_0)\n",
    "plt.scatter(x_domain,U_0)\n",
    "plt.show()\n",
    "\n",
    "def product(lam, U0):\n",
    "    U1 = np.zeros(len(U0))\n",
    "    vec = np.array([lam,1-2*lam,lam])\n",
    "    \n",
    "    for i in range(len(U0)-2):\n",
    "        U1[i+1] = vec.dot(U0[i:i+3])\n",
    "        \n",
    "    U1[0] = U0[0]*vec[1] + U0[1]*vec[0]\n",
    "    U1[-1] = U0[-1]*vec[1] + U0[-2]*vec[0]\n",
    "    return(U1)\n",
    "\n",
    "U0 = U_0\n",
    "\n",
    "for i in t_domain[1:]:\n",
    "    U1 = product(lam, U0)\n",
    "    U0 = U1"
   ]
  },
  {
   "cell_type": "code",
   "execution_count": 59,
   "metadata": {
    "collapsed": false
   },
   "outputs": [
    {
     "data": {
      "image/png": "[encoded data removed]",
      "text/plain": [
       "<matplotlib.figure.Figure at 0x115f53b00>"
      ]
     },
     "metadata": {},
     "output_type": "display_data"
    }
   ],
   "source": [
    "plt.plot(x_domain,U1)\n",
    "plt.scatter(x_domain,U1)\n",
    "plt.ylim(-.1,.5)\n",
    "plt.xlim(-.1,1.1)\n",
    "plt.show()"
   ]
  },
  {
   "cell_type": "markdown",
   "metadata": {},
   "source": [
    "## Problem 2.1"
   ]
  },
  {
   "cell_type": "code",
   "execution_count": 2,
   "metadata": {
    "collapsed": true
   },
   "outputs": [],
   "source": [
    "def animaction():\n",
    "    # Make the x and y data.\n",
    "    x_ = np.linspace(-12, 12, 141)\n",
    "    y = np.linspace(0, 1, 71)\n",
    "    f_x = lambda x: max(1-x**2,0)\n",
    "    U_0 = [f_x(i) for i in x_]\n",
    "    U0 = np.copy(U_0)\n",
    "    Uks = [U_0]\n",
    "    \n",
    "    v = 1\n",
    "    h = 24/141 #changes in x\n",
    "    k = 1/71 # changes in t\n",
    "    lam = v*k/h**2\n",
    "    \n",
    "    def product(lam, U0):\n",
    "        U1 = np.zeros(len(U0))\n",
    "        vec = np.array([lam,1-2*lam,lam])\n",
    "\n",
    "        for i in range(len(U0)-2):\n",
    "            U1[i+1] = vec.dot(U0[i:i+3])\n",
    "\n",
    "        U1[0] = U0[0]*vec[1] + U0[1]*vec[0]\n",
    "        U1[-1] = U0[-1]*vec[1] + U0[-2]*vec[0]\n",
    "        return(U1)\n",
    "    \n",
    "    for i in y[1:]:\n",
    "        U1 = product(lam, U0)\n",
    "        Uks.append(U1)\n",
    "        U0 = U1\n",
    "\n",
    "    f = plt.figure()\n",
    "    \n",
    "    plt.axes(xlim=(-12,12), ylim=(-.1,1.1))\n",
    "    line, = plt.plot([], [])\n",
    "    def animate(i):\n",
    "        line.set_data(x_, Uks[i])\n",
    "        return line,\n",
    "    \n",
    "    a = animation.FuncAnimation(f, animate, frames=y.size, interval=20)\n",
    "    \n",
    "    # Show the animation.\n",
    "    plt.show()\n",
    "    return(x_,U_0,U1)\n",
    "\n",
    "    \n",
    "x_,U_0,U1 = animaction()"
   ]
  },
  {
   "cell_type": "code",
   "execution_count": 79,
   "metadata": {
    "collapsed": true
   },
   "outputs": [],
   "source": [
    "plt.plot(x_,U_0)\n",
    "plt.plot(x_,U1)\n",
    "plt.show()"
   ]
  },
  {
   "cell_type": "markdown",
   "metadata": {},
   "source": [
    "## Problem 2.2"
   ]
  },
  {
   "cell_type": "code",
   "execution_count": 6,
   "metadata": {
    "collapsed": true
   },
   "outputs": [],
   "source": [
    "def animaction1():\n",
    "    # Make the x and y data.\n",
    "    x_ = np.linspace(-12, 12, 141)\n",
    "    y = np.linspace(0, 1, 67)\n",
    "    f_x = lambda x: max(1-x**2,0)\n",
    "    U_0 = [f_x(i) for i in x_]\n",
    "    U0 = np.copy(U_0)\n",
    "    Uks = [U_0]\n",
    "    \n",
    "    v = 1\n",
    "    h = 24/141 #changes in x\n",
    "    k = 1/67 # changes in t\n",
    "    lam = v*k/h**2\n",
    "    \n",
    "    def product(lam, U0):\n",
    "        U1 = np.zeros(len(U0))\n",
    "        vec = np.array([lam,1-2*lam,lam])\n",
    "\n",
    "        for i in range(len(U0)-2):\n",
    "            U1[i+1] = vec.dot(U0[i:i+3])\n",
    "\n",
    "        U1[0] = U0[0]*vec[1] + U0[1]*vec[0]\n",
    "        U1[-1] = U0[-1]*vec[1] + U0[-2]*vec[0]\n",
    "        return(U1)\n",
    "    \n",
    "    for i in y[1:]:\n",
    "        U1 = product(lam, U0)\n",
    "        Uks.append(U1)\n",
    "        U0 = U1\n",
    "\n",
    "    f = plt.figure()\n",
    "    \n",
    "    plt.axes(xlim=(-12,12), ylim=(-.1,1.1))\n",
    "    line, = plt.plot([], [])\n",
    "    def animate(i):\n",
    "        line.set_data(x_, Uks[i])\n",
    "        return line,\n",
    "    \n",
    "    a = animation.FuncAnimation(f, animate, frames=y.size, interval=1e1)\n",
    "    \n",
    "    # Show the animation.\n",
    "    plt.show()\n",
    "    return(x_,U_0,U1)\n",
    "\n",
    "    \n",
    "x_1,U_01,U11 = animaction1()"
   ]
  },
  {
   "cell_type": "markdown",
   "metadata": {},
   "source": [
    "## Problem 3"
   ]
  },
  {
   "cell_type": "code",
   "execution_count": 55,
   "metadata": {
    "collapsed": false
   },
   "outputs": [],
   "source": [
    "def errors(steps):\n",
    "    x_ = np.linspace(-12, 12, steps)\n",
    "    y = np.linspace(0, 1, steps)\n",
    "    f_x = lambda x: max(1 - x**2,0)\n",
    "    U_0 = [f_x(i) for i in x_]\n",
    "    U0 = np.copy(U_0)\n",
    "\n",
    "    Uks = [U_0]\n",
    "    v = 1\n",
    "    h = 24/(steps-1) #changes in x\n",
    "    k = 1/(steps-1) # changes in t\n",
    "    lam = v*k/(2*h**2)\n",
    "\n",
    "    def product(lam, U0):\n",
    "        U1 = np.zeros(len(U0))\n",
    "        vec = np.array([lam,1-2*lam,lam])\n",
    "\n",
    "        for i in range(len(U0)-2):\n",
    "            U1[i+1] = vec.dot(U0[i:i+3])\n",
    "\n",
    "        U1[0] = U0[0]*1 #vec[1] + U0[1]*vec[0]\n",
    "        U1[-1] = U0[-1]*1 #vec[1] + U0[-2]*vec[0]\n",
    "        return(U1)\n",
    "\n",
    "    B = diags([-lam,1+2*lam,-lam] , [-1,0,1] , shape = (len(U0),len(U0))).todense()\n",
    "    B[0,0],B[-1,-1]=1,1\n",
    "    B[0,1],B[-1,-2]=0,0\n",
    "    \n",
    "    for i in y[1:]:\n",
    "        A = product(lam, U0)\n",
    "        U1 = la.solve(B,A)\n",
    "        Uks.append(U1)\n",
    "        U0 = U1\n",
    "    return(U0)"
   ]
  },
  {
   "cell_type": "code",
   "execution_count": 56,
   "metadata": {
    "collapsed": false,
    "scrolled": true
   },
   "outputs": [],
   "source": [
    "step = [20,40,80,160,320,640][::-1]\n",
    "errores = []\n",
    "for i in step:\n",
    "    errore = errors(i+1)\n",
    "    amount = int(i/20)\n",
    "    errore = [j for j in errore[::amount]]\n",
    "    errores.append(np.array(errore))\n",
    "base = errores[0]\n",
    "differ = []\n",
    "\n",
    "for r in errores[1:]:\n",
    "    diff = la.norm(r-base,ord=np.inf)\n",
    "    differ.append(diff)"
   ]
  },
  {
   "cell_type": "code",
   "execution_count": 58,
   "metadata": {
    "collapsed": false
   },
   "outputs": [
    {
     "name": "stdout",
     "output_type": "stream",
     "text": [
      "\n"
     ]
    },
    {
     "data": {
      "image/png": "[encoded data removed]",
      "text/plain": [
       "<matplotlib.figure.Figure at 0x11a151940>"
      ]
     },
     "metadata": {},
     "output_type": "display_data"
    }
   ],
   "source": [
    "domain = 24/(np.array(step[1:])+1)\n",
    "print()\n",
    "plt.loglog(domain,differ,label='Error $E(H)$')\n",
    "plt.plot(domain,domain**2,'r',label='$h^2$')\n",
    "plt.scatter(domain,differ)\n",
    "plt.legend(loc='best')\n",
    "plt.xlim((1e-2,1e1))\n",
    "plt.ylim((1e-4,1e1))\n",
    "plt.show()"
   ]
  }
 ],
 "metadata": {
  "anaconda-cloud": {},
  "kernelspec": {
   "display_name": "Python [py36]",
   "language": "python",
   "name": "Python [py36]"
  },
  "language_info": {
   "codemirror_mode": {
    "name": "ipython",
    "version": 3
   },
   "file_extension": ".py",
   "mimetype": "text/x-python",
   "name": "python",
   "nbconvert_exporter": "python",
   "pygments_lexer": "ipython3",
   "version": "3.6.1"
  }
 },
 "nbformat": 4,
 "nbformat_minor": 2
}
