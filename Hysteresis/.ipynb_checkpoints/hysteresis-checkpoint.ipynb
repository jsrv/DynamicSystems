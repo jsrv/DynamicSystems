{
 "cells": [
  {
   "cell_type": "code",
   "execution_count": 2,
   "metadata": {
    "collapsed": true
   },
   "outputs": [],
   "source": [
    "import numpy as np\n",
    "import matplotlib.pyplot as plt\n",
    "from scipy.optimize import newton"
   ]
  },
  {
   "cell_type": "code",
   "execution_count": 3,
   "metadata": {
    "collapsed": false
   },
   "outputs": [],
   "source": [
    "def EmbeddingAlg(param_list, guess, F):\n",
    "    X = []\n",
    "    for param in param_list:\n",
    "        try:\n",
    "            # Solve for x_value making F(x_value, param) = 0.\n",
    "            x_value = newton(F, guess, fprime=None, args=(param,), tol=1E-7, maxiter=50)\n",
    "            # Record the solution and update guess for the next iteration.\n",
    "            X.append(x_value)\n",
    "            guess = x_value\n",
    "        except RuntimeError:\n",
    "            # If Newton's method fails, return a truncated list of parameters\n",
    "            # with the corresponding x values.\n",
    "            return param_list[:len(X)], X\n",
    "    # Return the list of parameters and the corresponding x values.\n",
    "    return param_list, X\n",
    "\n",
    "def F(x, lmbda):\n",
    "    return x**2 + lmbda\n",
    "\n",
    "# Top curve shown in the bifurcation diagram\n",
    "C1, X1 = EmbeddingAlg(np.linspace(-5, 0, 200), np.sqrt(5), F)\n",
    "# The bottom curve\n",
    "C2, X2 = EmbeddingAlg(np.linspace(-5, 0, 200), -np.sqrt(5), F)"
   ]
  },
  {
   "cell_type": "code",
   "execution_count": null,
   "metadata": {
    "collapsed": true
   },
   "outputs": [],
   "source": []
  }
 ],
 "metadata": {
  "anaconda-cloud": {},
  "kernelspec": {
   "display_name": "Python [py36]",
   "language": "python",
   "name": "Python [py36]"
  },
  "language_info": {
   "codemirror_mode": {
    "name": "ipython",
    "version": 3
   },
   "file_extension": ".py",
   "mimetype": "text/x-python",
   "name": "python",
   "nbconvert_exporter": "python",
   "pygments_lexer": "ipython3",
   "version": "3.6.1"
  }
 },
 "nbformat": 4,
 "nbformat_minor": 2
}
