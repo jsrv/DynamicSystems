{
 "cells": [
  {
   "cell_type": "markdown",
   "metadata": {},
   "source": [
    "# Lorenz Equations"
   ]
  },
  {
   "cell_type": "markdown",
   "metadata": {},
   "source": [
    "#### **Lab Objective:** Investigate the behavior of a system that exhibits chaotic behavior. Demonstrate methods for visualizing the evolution of a system."
   ]
  },
  {
   "cell_type": "markdown",
   "metadata": {},
   "source": [
    "* Chaos is everywhere. It can crop up in unexpected places and in remarkably simple systems, and a great deal of work has been done to describe the behavior of chaotic systems. One primary characteristic of chaos is that small changes in initial conditions result in large changes over time in the solution curves."
   ]
  },
  {
   "cell_type": "code",
   "execution_count": 18,
   "metadata": {
    "collapsed": true
   },
   "outputs": [],
   "source": [
    "from matplotlib import rcParams, pyplot as plt\n",
    "from mpl_toolkits.mplot3d import Axes3D\n",
    "import numpy as np\n",
    "from scipy.integrate import odeint\n",
    "import numpy.random\n",
    "from matplotlib.animation import FuncAnimation\n",
    "from scipy import linalg as la\n",
    "from scipy.stats import linregress\n",
    "plt.switch_backend('qt5agg') # This backend opens the graph in a new window"
   ]
  },
  {
   "cell_type": "markdown",
   "metadata": {},
   "source": [
    "## Problem 1"
   ]
  },
  {
   "cell_type": "code",
   "execution_count": 19,
   "metadata": {
    "collapsed": true
   },
   "outputs": [],
   "source": [
    "def lorenz_ode(Y, T):\n",
    "    '''\n",
    "    Code up the sytem of equations given\n",
    "    '''\n",
    "    Xprime, Yprime, Zprime = sigma*(Y[1]-Y[0]), rho*Y[0]-Y[1]-Y[2]*Y[0], Y[1]*Y[0] - beta*Y[2]\n",
    "    return Xprime, Yprime, Zprime\n",
    "\n",
    "def solve_lorenz(init_cond, time=10,rtol=None, atol=None):\n",
    "    T = np.linspace(0, time, time*100) #initialize time interval for ode\n",
    "    '''\n",
    "    Use odeint in conjuction with lorenz_ode and the time interval T\n",
    "    To get the X, Y, and Z values for this system.\n",
    "    You will need to transpose the output of odeint to graph it correctly.\n",
    "    '''\n",
    "    output = odeint(lorenz_ode, init_cond, T, rtol=rtol, atol=rtol).T\n",
    "    return output[0], output[1], output[2]"
   ]
  },
  {
   "cell_type": "code",
   "execution_count": 20,
   "metadata": {
    "collapsed": false
   },
   "outputs": [],
   "source": [
    "sigma = 10\n",
    "rho = 28\n",
    "beta = 8/3\n",
    "init_cond = np.random.uniform(-15,15,3)\n",
    "# init_cond = [x0, y0, z0]\n",
    "X, Y, Z = solve_lorenz(init_cond, time=50)\n",
    "\n",
    "rcParams['figure.figsize'] = (16,10) #Affects output size of graphs.\n",
    "\n",
    "fig = plt.figure()\n",
    "ax = fig.gca(projection='3d')\n",
    "ax.plot( X, Y, Z ) #Make sure X, Y, Z are same length.\n",
    "#Connect points (X[i], Y[i], Z[i]) for i in len(X)\n",
    "ax.set_xlabel('X')\n",
    "ax.set_ylabel('Y')\n",
    "ax.set_zlabel('Z')\n",
    "ax.set_xlim3d([min(X), max(X)]) #Bounds the axes nicely\n",
    "ax.set_ylim3d([min(Y), max(Y)])\n",
    "ax.set_zlim3d([min(Z), max(Z)])\n",
    "plt.show()"
   ]
  },
  {
   "cell_type": "markdown",
   "metadata": {},
   "source": [
    "## Problem 2"
   ]
  },
  {
   "cell_type": "markdown",
   "metadata": {},
   "source": [
    "* Plot n different solution using different random initial conditions.\n",
    "* Produce a plot with n = 3 different solutions. "
   ]
  },
  {
   "cell_type": "code",
   "execution_count": 21,
   "metadata": {
    "collapsed": true
   },
   "outputs": [],
   "source": [
    "sigma = 10\n",
    "rho = 28\n",
    "beta = 8/3\n",
    "# init_cond = [x0, y0, z0]\n",
    "\n",
    "rcParams['figure.figsize'] = (16,10) #Affects output size of graphs.\n",
    "\n",
    "fig = plt.figure()\n",
    "for i in range(3):\n",
    "    init_cond = np.random.uniform(-15,15,3)\n",
    "    X, Y, Z = solve_lorenz(init_cond, time=50)\n",
    "    ax = fig.gca(projection='3d')\n",
    "    ax.plot( X, Y, Z ) #Make sure X, Y, Z are same length.\n",
    "    #Connect points (X[i], Y[i], Z[i]) for i in len(X)\n",
    "    ax.set_xlabel('X')\n",
    "    ax.set_ylabel('Y')\n",
    "    ax.set_zlabel('Z')\n",
    "    ax.set_xlim3d([min(X), max(X)]) #Bounds the axes nicely\n",
    "    ax.set_ylim3d([min(Y), max(Y)])\n",
    "    ax.set_zlim3d([min(Z), max(Z)])\n",
    "\n",
    "plt.show()"
   ]
  },
  {
   "cell_type": "markdown",
   "metadata": {},
   "source": [
    "## Problem 3"
   ]
  },
  {
   "cell_type": "code",
   "execution_count": 22,
   "metadata": {
    "collapsed": false
   },
   "outputs": [],
   "source": [
    "sigma = 10\n",
    "rho = 28\n",
    "beta = 8/3\n",
    "init_cond1 = np.random.uniform(-15,15,3)\n",
    "init_cond2 = init_cond1+np.random.randn(3)*(1e-10)\n",
    "# init_cond = [x0, y0, z0]\n",
    "X1, Y1, Z1 = solve_lorenz(init_cond1, time=50)\n",
    "X2, Y2, Z2 = solve_lorenz(init_cond2, time=50)\n",
    "\n",
    "rcParams['figure.figsize'] = (16,10) #Affects output size of graphs.\n",
    "\n",
    "fig = plt.figure()\n",
    "ax = fig.gca(projection='3d')\n",
    "ax.plot( X1, Y1, Z1, \"r\" ) #Make sure X, Y, Z are same length.\n",
    "ax.plot( X2, Y2, Z2, \"b\" )\n",
    "#Connect points (X[i], Y[i], Z[i]) for i in len(X)\n",
    "ax.set_xlabel('X')\n",
    "ax.set_ylabel('Y')\n",
    "ax.set_zlabel('Z')\n",
    "minx,miny,minz = min([min(X1),min(X2)]),min([min(Y1),min(Y2)]),min([min(Z1),min(Z2)])\n",
    "maxx,maxy,maxz = max([max(X1),max(X2)]),max([max(Y1),max(Y2)]),max([max(Z1),max(Z2)])\n",
    "ax.set_xlim3d([minx, maxx]) #Bounds the axes nicely\n",
    "ax.set_ylim3d([miny, maxy])\n",
    "ax.set_zlim3d([minz, maxz])\n",
    "plt.show()"
   ]
  },
  {
   "cell_type": "markdown",
   "metadata": {},
   "source": [
    "## Problem 4"
   ]
  },
  {
   "cell_type": "markdown",
   "metadata": {},
   "source": [
    "#### Example"
   ]
  },
  {
   "cell_type": "code",
   "execution_count": 23,
   "metadata": {
    "collapsed": true
   },
   "outputs": [],
   "source": [
    "#Calculate the data to be animated\n",
    "x = np.linspace(0, 2*np.pi, 200)[:-1]\n",
    "y1, y2 = np.sin(x), np.cos(x)\n",
    "\n",
    "#Create a figure and set the window boundaries\n",
    "fig = plt.figure()\n",
    "plt.xlim(0, 2*np.pi)\n",
    "plt.ylim(-1.2, 1.2)\n",
    "\n",
    "#Initiate empty lines of the correct dimension\n",
    "sin_drawing, = plt.plot([], [])\n",
    "cos_drawing, = plt.plot([], []) #note the comma after the variable name\n",
    "\n",
    "#Define a function that updates each line\n",
    "def update(index):\n",
    "    sin_drawing.set_data(x[:index], y1[:index])\n",
    "    cos_drawing.set_data(x[:index], y2[:index])\n",
    "    return sin_drawing, cos_drawing,\n",
    "\n",
    "a = FuncAnimation(fig, update, frames=len(x), interval=10)\n",
    "plt.show()"
   ]
  },
  {
   "cell_type": "markdown",
   "metadata": {},
   "source": [
    "#### Code"
   ]
  },
  {
   "cell_type": "code",
   "execution_count": 24,
   "metadata": {
    "collapsed": false
   },
   "outputs": [],
   "source": [
    "sigma = 10\n",
    "rho = 28\n",
    "beta = 8/3\n",
    "init_cond1 = np.random.uniform(-15,15,3)\n",
    "init_cond2 = init_cond1+np.random.randn(3)*(1e-10)\n",
    "# init_cond = [x0, y0, z0]\n",
    "X1, Y1, Z1 = solve_lorenz(init_cond1, time=50)\n",
    "X2, Y2, Z2 = solve_lorenz(init_cond2, time=50)\n",
    "\n",
    "#Create a figure and set the window boundaries\n",
    "fig = plt.figure()\n",
    "ax = fig.gca(projection='3d')\n",
    "\n",
    "minx,miny,minz = min([min(X1),min(X2)]),min([min(Y1),min(Y2)]),min([min(Z1),min(Z2)])\n",
    "maxx,maxy,maxz = max([max(X1),max(X2)]),max([max(Y1),max(Y2)]),max([max(Z1),max(Z2)])\n",
    "\n",
    "ax.set_xlim3d([minx, maxx]) #Bounds the axes nicely\n",
    "ax.set_ylim3d([miny, maxy])\n",
    "ax.set_zlim3d([minz, maxz])\n",
    "\n",
    "#Initiate empty lines of the correct dimension\n",
    "fig1, = ax.plot([], [], [])\n",
    "fig2, = ax.plot([], [], []) #note the comma after the variable name\n",
    "    \n",
    "    #Define a function that updates each line\n",
    "def update2(index):\n",
    "    fig1.set_data(X1[:index], Y1[:index])\n",
    "    fig2.set_data(X2[:index], Y2[:index])\n",
    "    fig1.set_3d_properties(Z1[:index])\n",
    "    fig2.set_3d_properties(Z2[:index])\n",
    "    return fig1, fig2,\n",
    "\n",
    "a = FuncAnimation(fig, update2, frames=len(X1), interval=.0001)\n",
    "plt.show()"
   ]
  },
  {
   "cell_type": "markdown",
   "metadata": {},
   "source": [
    "## Problem 5"
   ]
  },
  {
   "cell_type": "code",
   "execution_count": 25,
   "metadata": {
    "collapsed": true
   },
   "outputs": [],
   "source": [
    "sigma = 10\n",
    "rho = 28\n",
    "beta = 8/3\n",
    "init_cond12 = np.random.uniform(-15,15,3)\n",
    "\n",
    "# init_cond = [x0, y0, z0]\n",
    "X1, Y1, Z1 = solve_lorenz(init_cond12, time=50, atol=1e-14, rtol=1e-12)\n",
    "X2, Y2, Z2 = solve_lorenz(init_cond12, time=50, atol=1e-15, rtol=1e-13)\n",
    "\n",
    "#Create a figure and set the window boundaries\n",
    "fig = plt.figure()\n",
    "ax = fig.gca(projection='3d')\n",
    "\n",
    "minx,miny,minz = min([min(X1),min(X2)]),min([min(Y1),min(Y2)]),min([min(Z1),min(Z2)])\n",
    "maxx,maxy,maxz = max([max(X1),max(X2)]),max([max(Y1),max(Y2)]),max([max(Z1),max(Z2)])\n",
    "\n",
    "ax.set_xlim3d([minx, maxx]) #Bounds the axes nicely\n",
    "ax.set_ylim3d([miny, maxy])\n",
    "ax.set_zlim3d([minz, maxz])\n",
    "\n",
    "#Initiate empty lines of the correct dimension\n",
    "fig1, = ax.plot([], [], [])\n",
    "fig2, = ax.plot([], [], []) #note the comma after the variable name\n",
    "    \n",
    "    #Define a function that updates each line\n",
    "def update2(index):\n",
    "    fig1.set_data(X1[:index], Y1[:index])\n",
    "    fig2.set_data(X2[:index], Y2[:index])\n",
    "    fig1.set_3d_properties(Z1[:index])\n",
    "    fig2.set_3d_properties(Z2[:index])\n",
    "    return fig1, fig2,\n",
    "\n",
    "a = FuncAnimation(fig, update2, frames=len(X1), interval=.0001)\n",
    "plt.show()"
   ]
  },
  {
   "cell_type": "markdown",
   "metadata": {},
   "source": [
    "## Problem 6"
   ]
  },
  {
   "cell_type": "markdown",
   "metadata": {},
   "source": [
    "#### **Lyapunov Exponents:**\n",
    "* Finds an initial point on the strange attractor, runs the simulation to a given time t, and produces a semilog plot of the norm of the difference between the two solution curves. Plots an exponential line fitted to match the curve (this will be linear on the semilog plot). Returns a rough estimate of the Lyapunov exponent."
   ]
  },
  {
   "cell_type": "code",
   "execution_count": 41,
   "metadata": {
    "collapsed": true
   },
   "outputs": [],
   "source": [
    "def lorenz_ode(Y, T):\n",
    "    '''\n",
    "    Code up the sytem of equations given\n",
    "    '''\n",
    "    Xprime, Yprime, Zprime = sigma*(Y[1]-Y[0]), rho*Y[0]-Y[1]-Y[2]*Y[0], Y[1]*Y[0] - beta*Y[2]\n",
    "    return Xprime, Yprime, Zprime\n",
    "\n",
    "def solve_lorenz1(init_cond, time=10,rtol=None, atol=None):\n",
    "    T = np.linspace(0, time, time*100) #initialize time interval for ode\n",
    "    '''\n",
    "    Use odeint in conjuction with lorenz_ode and the time interval T\n",
    "    To get the X, Y, and Z values for this system.\n",
    "    You will need to transpose the output of odeint to graph it correctly.\n",
    "    '''\n",
    "    output = odeint(lorenz_ode, init_cond, T, rtol=rtol, atol=rtol).T\n",
    "    return output"
   ]
  },
  {
   "cell_type": "code",
   "execution_count": 62,
   "metadata": {
    "collapsed": false
   },
   "outputs": [],
   "source": [
    "def awesome(timer=10):\n",
    "    sigma = 10\n",
    "    rho = 28\n",
    "    beta = 8/3\n",
    "    init_cond1 = np.random.uniform(-15,15,3)\n",
    "\n",
    "    # init_cond = [x0, y0, z0]\n",
    "    X, Y, Z = solve_lorenz(init_cond1, time=timer)\n",
    "    sec_cond = np.array([X[-1], Y[-1], Z[-1]])\n",
    "    perturb_ = sec_cond + np.random.randn(3)*(1e-10)\n",
    "\n",
    "    out1 = solve_lorenz1(sec_cond, time=timer)\n",
    "    out2 = solve_lorenz1(perturb_, time=timer)\n",
    "\n",
    "    norms = la.norm(out1 - out2, axis=0)\n",
    "    log_norms = np.log(norms)\n",
    "\n",
    "    domain = np.linspace(0, timer, timer*100)\n",
    "\n",
    "    slope, intercept = linregress(domain,log_norms)[:2]\n",
    "\n",
    "    guay = intercept + slope*domain\n",
    "    \n",
    "    plt.title('Lyapunov Exponents')\n",
    "    plt.semilogy(domain, np.exp(guay))\n",
    "    plt.semilogy(domain,norms) \n",
    "    plt.show()\n",
    "    \n",
    "awesome()"
   ]
  }
 ],
 "metadata": {
  "anaconda-cloud": {},
  "kernelspec": {
   "display_name": "Python [py36]",
   "language": "python",
   "name": "Python [py36]"
  },
  "language_info": {
   "codemirror_mode": {
    "name": "ipython",
    "version": 3
   },
   "file_extension": ".py",
   "mimetype": "text/x-python",
   "name": "python",
   "nbconvert_exporter": "python",
   "pygments_lexer": "ipython3",
   "version": "3.6.1"
  }
 },
 "nbformat": 4,
 "nbformat_minor": 2
}
