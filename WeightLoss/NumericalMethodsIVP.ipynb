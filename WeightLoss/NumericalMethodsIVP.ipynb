{
 "cells": [
  {
   "cell_type": "code",
   "execution_count": 1,
   "metadata": {
    "collapsed": true
   },
   "outputs": [],
   "source": [
    "import matplotlib.pyplot as plt\n",
    "import numpy as np"
   ]
  },
  {
   "cell_type": "code",
   "execution_count": null,
   "metadata": {
    "collapsed": true
   },
   "outputs": [],
   "source": [
    "def initialize_all(a,b,y0,h):\n",
    "    \"\"\"Given an initial and final time a and b, with y(a)=y0, and step ←-\n",
    "    size h,\n",
    "    return several things.\n",
    "    X: an aray from a to b with n elements, where n is the number of steps←-\n",
    "    from a to b.\n",
    "    Y: an empty array of size (n, y.size), Y[0]=y0.\n",
    "    h: the step size.\n",
    "    n: the number of steps to be taken.\n",
    "    \"\"\"\n",
    "    n = int((b-a)/h+1)\n",
    "    X = np.linspace(a, b, n)\n",
    "    \n",
    "    if isinstance(y0, np.ndarray):\n",
    "        Y = np.empty((n, y0.size))\n",
    "    \n",
    "    else:\n",
    "        Y = np.empty(n)\n",
    "        Y[0] = y0\n",
    "    return X, Y, h, int(n)\n",
    "\n",
    "def euler(f,X,Y,h,n):\n",
    "    \"\"\"Use the Euler method to compute an approximate solution\n",
    "    to the ODE y' = f(t, y) over X.\n",
    "    Y[0] = y0\n",
    "    f is assumed to accept two arguments.\n",
    "    The first is a constant giving the value of t.\n",
    "    The second is a one-dimensional numpy array of the same size as y.\n",
    "    This function returns an array Y of shape (n,) if\n",
    "    y is a constant or an array of size 1.\n",
    "    It returns an array of shape (n, y.size) otherwise.\n",
    "    In either case, Y[i] is the approximate value of y at\n",
    "    the i'th value of X.\n",
    "    \"\"\"\n",
    "    return None"
   ]
  },
  {
   "cell_type": "code",
   "execution_count": null,
   "metadata": {
    "collapsed": true
   },
   "outputs": [],
   "source": [
    "a, b, ya = 0., 2., 0.\n",
    "\n",
    "def ode_f(x,y):\n",
    "    return np.array([y - 2*x + 4.])\n",
    "\n",
    "best_grid = 320 # number of subintervals in most refined grid\n",
    "h = 2./best_grid\n",
    "\n",
    "X, Y, h, n = initialize_all(a, b, ya, h)\n",
    "\n",
    "# Requires an implementation of the euler method\n",
    "best_val = euler(ode_f, X, Y, h, n)[-1]\n",
    "\n",
    "smaller_grids = [10, 20, 40, 80] # number of subintervals in smaller grids\n",
    "\n",
    "h = [2./N for N in smaller_grids]\n",
    "Euler_sol = [euler(ode_f, initialize_all(a, b, ya, h[i])[0],\n",
    "initialize_all(a, b, ya, h[i])[1], h[i], N+1)[-1]\n",
    "for i, N in enumerate(smaller_grids)]\n",
    "Euler_error = [abs((val - best_val)/best_val) for val in Euler_sol]\n",
    "plt.loglog(h, Euler_error, '-b', label=\"Euler method\", linewidth=2.)\n",
    "plt.show()"
   ]
  }
 ],
 "metadata": {
  "kernelspec": {
   "display_name": "Python [py36]",
   "language": "python",
   "name": "Python [py36]"
  },
  "language_info": {
   "codemirror_mode": {
    "name": "ipython",
    "version": 3
   },
   "file_extension": ".py",
   "mimetype": "text/x-python",
   "name": "python",
   "nbconvert_exporter": "python",
   "pygments_lexer": "ipython3",
   "version": "3.6.1"
  }
 },
 "nbformat": 4,
 "nbformat_minor": 2
}
